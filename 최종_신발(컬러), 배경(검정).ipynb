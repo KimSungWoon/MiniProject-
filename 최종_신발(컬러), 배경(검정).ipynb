{
 "cells": [
  {
   "cell_type": "code",
   "execution_count": 1,
   "metadata": {
    "colab": {
     "base_uri": "https://localhost:8080/"
    },
    "executionInfo": {
     "elapsed": 23876,
     "status": "ok",
     "timestamp": 1605676986258,
     "user": {
      "displayName": "윤채영",
      "photoUrl": "https://lh3.googleusercontent.com/a-/AOh14GgjzVSEIYGpvGvlUmbyWCmOdOr9J_OFxud0d-wW=s64",
      "userId": "05705444561123045578"
     },
     "user_tz": -540
    },
    "id": "qs6LIyn1y3NA",
    "outputId": "8cac8b71-28b7-47a0-b5d3-32c072845fbb"
   },
   "outputs": [
    {
     "name": "stdout",
     "output_type": "stream",
     "text": [
      "Mounted at /content/drive\n"
     ]
    }
   ],
   "source": [
    "# 구글 드라이브 마운트\n",
    "from google.colab import drive\n",
    "drive.mount(\"/content/drive\")"
   ]
  },
  {
   "cell_type": "code",
   "execution_count": 30,
   "metadata": {
    "executionInfo": {
     "elapsed": 667,
     "status": "ok",
     "timestamp": 1605678361669,
     "user": {
      "displayName": "윤채영",
      "photoUrl": "https://lh3.googleusercontent.com/a-/AOh14GgjzVSEIYGpvGvlUmbyWCmOdOr9J_OFxud0d-wW=s64",
      "userId": "05705444561123045578"
     },
     "user_tz": -540
    },
    "id": "856yYQp9zfDi"
   },
   "outputs": [],
   "source": [
    "# 검은 배경에 신발만 잘라지도록 하는 함수\n",
    "def save_only_shoes(file_path, file_name, save_path, save_name):\n",
    "  # file_path : 원본 이미지의 경로\n",
    "  # file_name : 원본 이미지 이름\n",
    "  # save_path : 저장 경로\n",
    "  # save_name : 저장 이미지 이름\n",
    "  \n",
    "  # 필요한 라이브러리 import\n",
    "  import cv2\n",
    "  import numpy as np\n",
    "  import matplotlib.pyplot as plt\n",
    "  from skimage.segmentation import clear_border\n",
    "  import skimage.morphology as mp\n",
    "  import scipy.ndimage.morphology as sm\n",
    "  from PIL import Image\n",
    "\n",
    "  # 원본 이미지\n",
    "  img = cv2.imread(file_path+'/'+file_name+'.jpg')\n",
    "  # 흑백 이미지\n",
    "  img_grey = cv2.imread(file_path+'/'+file_name+'.jpg', cv2.IMREAD_GRAYSCALE)\n",
    "  \n",
    "  # 이진화 처리\n",
    "  # 이미지를 흰/검으로 분류하여 처리하는 것\n",
    "\n",
    "  # 임계값을 기준\n",
    "  # 임계값보다 크다 -> 흰색\n",
    "  # 임계값보다 작다 -> 검은색\n",
    "  th, img1 = cv2.threshold(img_grey, 0, 255, cv2.THRESH_OTSU)\n",
    "  # grayscale 이미지, 임계값, 임계값을 넣었을 때 적용할 value, thresholding type 순서로 대입\n",
    "  \n",
    "  # 지금 상태로는\n",
    "  # 신발 -> 검은색, 배경 -> 흰색\n",
    "  # 반대로, 신발 -> 흰색, 배경 -> 검은색으로 바꿔주자.\n",
    "  img1 = 255 - img1\n",
    "  \n",
    "  # 경계선 부드럽게\n",
    "  # img2 = clear_border(img1)\n",
    "  img2 = img1\n",
    "  \n",
    "  # 디스크 생성\n",
    "  disk2 = mp.disk(2)\n",
    "  \n",
    "  # 여러가지 morphology method 이용\n",
    "  # 모폴로지 연산 : 형태에 따라 영상, 이미지를 처리하는 광범위한 영상처리 연산 집합\n",
    "  # 팽창, 침식, 재구성 등등\n",
    "  # 각 픽셀이 이웃의 다른 픽셀 값에 따라 조정됨\n",
    "  img2 = mp.binary_dilation(img2, disk2)\n",
    "  img2 = mp.binary_erosion(img2, disk2)\n",
    "  img2 = mp.binary_opening(img2, disk2)\n",
    "  img2 = mp.binary_closing(img2, disk2)\n",
    "  \n",
    "  # 안을 깔끔하게 메꿔주자. 구멍이 생길 수도 있으니.\n",
    "  img2 = sm.binary_fill_holes(img2)\n",
    "  \n",
    "  # cv2의 기본 데이터 타입은 uint8이므로 원래대로 바꿔주기\n",
    "  img2 = (img2*1).astype('uint8')\n",
    "\n",
    "  # mask 제작 -> 최종적으로 신발만 자른 사진\n",
    "  masked = cv2.bitwise_or(img, img, mask=img2)\n",
    "  \n",
    "  # 이미지 저장\n",
    "  cv2.imwrite('final_img.jpg', masked)\n",
    "  final_img = cv2.imread('final_img.jpg')\n",
    "  im = Image.open('final_img.jpg')\n",
    "  im.save(save_path+'/'+save_name+'.jpg')\n",
    "  # save_path 경로에 save_name.jpg 라는 파일로 새로 저장됨"
   ]
  },
  {
   "cell_type": "code",
   "execution_count": 31,
   "metadata": {
    "executionInfo": {
     "elapsed": 501,
     "status": "ok",
     "timestamp": 1605678363770,
     "user": {
      "displayName": "윤채영",
      "photoUrl": "https://lh3.googleusercontent.com/a-/AOh14GgjzVSEIYGpvGvlUmbyWCmOdOr9J_OFxud0d-wW=s64",
      "userId": "05705444561123045578"
     },
     "user_tz": -540
    },
    "id": "mRUD4hD410g8"
   },
   "outputs": [],
   "source": [
    "save_only_shoes('/content/drive/MyDrive/GoogleColab/MiniProject/sample_image', '1692171_1_500', '/content/drive/MyDrive/GoogleColab/MiniProject/slicing_image', 'save_1')"
   ]
  },
  {
   "cell_type": "code",
   "execution_count": null,
   "metadata": {
    "id": "7PIt1pB32D8L"
   },
   "outputs": [],
   "source": [
    "for i in range(len())"
   ]
  }
 ],
 "metadata": {
  "colab": {
   "authorship_tag": "ABX9TyMNRWtqrHXst/LcLmt+nmqY",
   "collapsed_sections": [],
   "name": "신발만_2.ipynb",
   "provenance": []
  },
  "kernelspec": {
   "display_name": "Python 3",
   "language": "python",
   "name": "python3"
  },
  "language_info": {
   "codemirror_mode": {
    "name": "ipython",
    "version": 3
   },
   "file_extension": ".py",
   "mimetype": "text/x-python",
   "name": "python",
   "nbconvert_exporter": "python",
   "pygments_lexer": "ipython3",
   "version": "3.8.3"
  }
 },
 "nbformat": 4,
 "nbformat_minor": 4
}
